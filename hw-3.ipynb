{
 "cells": [
  {
   "cell_type": "code",
   "execution_count": null,
   "metadata": {
    "collapsed": true
   },
   "outputs": [],
   "source": [
    "%matplotlib inline\n",
    "import numpy as np\n",
    "import matplotlib.pyplot as plt"
   ]
  },
  {
   "cell_type": "code",
   "execution_count": null,
   "metadata": {
    "collapsed": true
   },
   "outputs": [],
   "source": [
    "def function(x):\n",
    "    a = 1.01\n",
    "    b = -3.04\n",
    "    c = 2.07\n",
    "    return a*x**2 + b*x + c"
   ]
  },
  {
   "cell_type": "code",
   "execution_count": null,
   "metadata": {
    "collapsed": true
   },
   "outputs": [],
   "source": [
    "# Check if the input values give us the roots\n",
    "def check_initial_values(f, x_min, x_max, tol):\n",
    "    \n",
    "    # Find the values along the curve/function \n",
    "    y_min = f(x_min)\n",
    "    y_max = f(x_max)\n",
    "    \n",
    "    # Do y_min and y_max lie at opposite sides of y=0?\n",
    "    if (y_min * y_max >= 0.0):\n",
    "        print(\"No zero crossing found in the range = \", x_min, x_max)\n",
    "        s = \"f(%f) = %f, f(%f) = %f\" % (x_min, y_min, x_max, y_max)\n",
    "        print(s)\n",
    "        return 0\n",
    "    \n",
    "    # Create flags if the inputs are roots\n",
    "    if (np.fabs(y_min)<tol):       #x_min is a root\n",
    "        return 1\n",
    "    \n",
    "    # **Why don't we use elif here?**\n",
    "    if (np.fabs(y_max)<tol):       #x_max is a root\n",
    "        return 2\n",
    "    \n",
    "    # If they're not roots, we just create a bracket with them\n",
    "    return 3"
   ]
  },
  {
   "cell_type": "code",
   "execution_count": null,
   "metadata": {
    "collapsed": true
   },
   "outputs": [],
   "source": [
    "def bisection_root_finding(f, x_min_start, x_max_start, tol):\n",
    "    \n",
    "    x_min = x_min_start\n",
    "    x_max = x_max_start\n",
    "    x_mid = 0.0          #mid point\n",
    "    \n",
    "    y_min = f(x_min)\n",
    "    y_max = f(x_max)\n",
    "    y_mid = 0.0\n",
    "    #**Are they defining x_mid and y_mid here so we can change\n",
    "    #their values later?** \n",
    "    \n",
    "    imax = 10000        # Maximum number of iterations\n",
    "    i = 0               # Iteration counter\n",
    "                        # **How does it know that 'i' is an\n",
    "                        #iteration counter? How does it know\n",
    "                        #that when i += 1, the flag value\n",
    "                        #has to increase?**\n",
    "    \n",
    "    # Check the initial values\n",
    "    flag = check_initial_values(f, x_min, x_max, tol)\n",
    "    if (flag == 0):\n",
    "        print(\"Error in bisection_root_finding().\")\n",
    "        raise ValueError('Initial values invalid', x_min, x_max)\n",
    "    elif (flag == 1):\n",
    "        return x_min\n",
    "    elif (flag == 2):\n",
    "        return x_max\n",
    "    \n",
    "    # If none of the previous are true (then, flag = 3),\n",
    "    #perform the search by bisection:\n",
    "    \n",
    "    \n",
    "    #**Why do we have to set this flag???** When flag = 0, the iteration stops\n",
    "    flag = 1\n",
    "    \n",
    "    while (flag):\n",
    "        x_mid = 0.5*(x_min+x_max)   #Find a middle point in x\n",
    "        y_mid = f(x_mid)            #Find its function value\n",
    "        \n",
    "        # See if mid_x is a root\n",
    "        if (np.fabs(y_mid) < tol):  #x_mid is a root\n",
    "            flag = 0\n",
    "        else:                       #x_mid is not a root\n",
    "            # If the product of the y_mid and y_[other] is\n",
    "            #greater than zero, replace [other] endpoint\n",
    "            if (f(x_min) * f(x_mid) > 0):\n",
    "                x_min = x_mid       # Replace x_min with x_mid\n",
    "            else:\n",
    "                x_max = x_mid       # Replace x_max with x_mid\n",
    "                \n",
    "        # Print the result of this iteration\n",
    "        print(x_min, f(x_min), x_max, f(x_max))\n",
    "        \n",
    "        # Increase the counter of iteration\n",
    "        i += 1\n",
    "        \n",
    "        # If we have exceded the max number of iterations, exit\n",
    "        if (i >= imax):\n",
    "            print (\"Exceeded max number of iterations = \", i)\n",
    "            s = \"Min bracket f(%f) = %f\" % (x_min, f(x_min))\n",
    "            print (s)\n",
    "            \n",
    "            s = \"Max bracket f(%f) = %f\" % (x_max, f(x_max))\n",
    "            print (s)\n",
    "            \n",
    "            s = \"Mid bracket f(%f) = %f\" % (x_mid, f(x_mid))\n",
    "            print (s)\n",
    "            \n",
    "            raise StopIteration ('Stopping iterations after', i)\n",
    "            \n",
    "    # If all went well, we should find an x_mid that is a root:\n",
    "    return x_mid       \n",
    "            "
   ]
  },
  {
   "cell_type": "code",
   "execution_count": null,
   "metadata": {},
   "outputs": [],
   "source": [
    "# Define inputs\n",
    "x_min1 = 0.3\n",
    "x_max1 = 1.2\n",
    "x_min2 = 1.3\n",
    "x_max2 = 2.8\n",
    "tolerance = 1.0e-6\n",
    "\n",
    "# Print the initial guess\n",
    "print (x_min1,function(x_min1))\n",
    "print (x_max1, function(x_max1))\n",
    "print (x_min2,function(x_min2))\n",
    "print (x_max2, function(x_max2))\n",
    "\n",
    "\n",
    "x_root1 = bisection_root_finding(function, x_min1, x_max1, tolerance)\n",
    "y_root1 = function(x_root1)\n",
    "x_root2 = bisection_root_finding(function, x_min2, x_max2, tolerance)\n",
    "y_root2 = function(x_root2)\n",
    "\n",
    "s = 'Root found with y(%f) = %f, and y(%f) = %f' %(x_root1, y_root1,x_root2, y_root2)\n",
    "\n",
    "print(s)"
   ]
  },
  {
   "cell_type": "code",
   "execution_count": null,
   "metadata": {},
   "outputs": [],
   "source": [
    "x = np.linspace(0,3,1000)\n",
    "y = function(x)\n",
    "z = 0*x\n",
    "plt.plot(x, y, label = r'$1.01x^2 - 3.04x + 2.07$')\n",
    "plt.plot(x,z, 'k', linewidth=.5)\n",
    "\n",
    "plt.plot(x_root1,y_root1, 'k', marker = 'o', label = 'Roots', linewidth=0)\n",
    "plt.plot(x_root2,y_root2, 'k', marker = 'o')\n",
    "plt.plot(x_min1, function(x_min1), 'g', marker = '.', label = 'Bracket 1', linewidth=0)\n",
    "plt.plot(x_max1, function(x_max1), 'g', marker = '.')\n",
    "plt.plot(x_min2, function(x_min2), 'r', marker = '.', label = 'Bracket 2', linewidth=0)\n",
    "plt.plot(x_max2, function(x_max2), 'r', marker = '.')\n",
    "\n",
    "plt.title('Bisection Search Root Finding')\n",
    "plt.xlabel('x')\n",
    "plt.ylabel('f(x)')\n",
    "plt.xlim(0, 3)\n",
    "plt.ylim(-0.5, 2.1)\n",
    "plt.grid()\n",
    "\n",
    "plt.legend()"
   ]
  },
  {
   "cell_type": "code",
   "execution_count": null,
   "metadata": {
    "collapsed": true
   },
   "outputs": [],
   "source": []
  }
 ],
 "metadata": {
  "kernelspec": {
   "display_name": "Python 2",
   "language": "python",
   "name": "python2"
  },
  "language_info": {
   "codemirror_mode": {
    "name": "ipython",
    "version": 2
   },
   "file_extension": ".py",
   "mimetype": "text/x-python",
   "name": "python",
   "nbconvert_exporter": "python",
   "pygments_lexer": "ipython2",
   "version": "2.7.13"
  }
 },
 "nbformat": 4,
 "nbformat_minor": 2
}
